{
  "nbformat": 4,
  "nbformat_minor": 0,
  "metadata": {
    "colab": {
      "provenance": []
    },
    "kernelspec": {
      "name": "python3",
      "display_name": "Python 3"
    },
    "language_info": {
      "name": "python"
    }
  },
  "cells": [
    {
      "cell_type": "code",
      "source": [
        "import numpy as np\n",
        "import matplotlib.pyplot as plt\n",
        "from sympy import Matrix, init_printing\n",
        "\n",
        "init_printing()"
      ],
      "metadata": {
        "id": "JeoLtBPP4R8H"
      },
      "execution_count": null,
      "outputs": []
    },
    {
      "cell_type": "markdown",
      "source": [
        "Declarando as valores que nos foram dados:\n"
      ],
      "metadata": {
        "id": "9FmluPKX4bC1"
      }
    },
    {
      "cell_type": "code",
      "execution_count": null,
      "metadata": {
        "id": "aQq6ghR7n1ze"
      },
      "outputs": [],
      "source": [
        "#declarando respectivamente tudo que está acima\n",
        "T_inf = 293.15\n",
        "L = 0.025\n",
        "k = 35\n",
        "U = 67967200\n",
        "rho = 8618\n",
        "h_barra = 0.25 * (10**5)\n",
        "c = 460\n",
        "euler = 2.718281828459045235360287  # nao foi definido no problema mas estou fazendo por\n",
        "                                # conta própria por conveniencia caso precise"
      ]
    },
    {
      "cell_type": "markdown",
      "source": [
        "Definindo a malha, número de elementos, L global , nós, número de equações e etc...\n"
      ],
      "metadata": {
        "id": "WPzYxbvX5WfF"
      }
    },
    {
      "cell_type": "code",
      "source": [
        "coord = [\n",
        "        [0,     0],\n",
        "        [0.005, 0],\n",
        "        [0.01,  0],\n",
        "        [0.015, 0],\n",
        "        [0.02,  0],\n",
        "        [0.025, 0],\n",
        "\n",
        "        [0,     0.05],\n",
        "        [0.005, 0.05],\n",
        "        [0.01,  0.05],\n",
        "        [0.015, 0.05],\n",
        "        [0.02,  0.05],\n",
        "        [0.025, 0.05],\n",
        "]\n",
        "\n",
        "LG = np.array([\n",
        "     [1 ,  2 ,  3 ,   4 ,  5 ],\n",
        "     [2 ,  3 ,  4 ,   5 ,  6 ],\n",
        "     [8 ,  9 , 10 ,  11 , 12 ],\n",
        "     [7 ,  8 ,  9 ,  10 , 11 ]\n",
        "     ])\n",
        "\n",
        "EQ = [1, 2, 3, 4, 5, 0, 6, 7, 8, 9, 10, 0]\n",
        "\n",
        "Neq = max(EQ)  # número de equações\n",
        "Nel = 5  # número de elementos\n",
        "Nnos = len(EQ) # número de nós\n"
      ],
      "metadata": {
        "id": "hDDtZgbM5ICV"
      },
      "execution_count": null,
      "outputs": []
    },
    {
      "cell_type": "code",
      "source": [
        "# Inicializando as matrizes que vamos usar.\n",
        "K = np.zeros((Neq, Neq))\n",
        "F = np.zeros(Neq)"
      ],
      "metadata": {
        "id": "N-uADMF6BsU4"
      },
      "execution_count": null,
      "outputs": []
    },
    {
      "cell_type": "markdown",
      "source": [
        "Daqui para frente o nosso problema está resumido em montar a matriz K e F local e fazer suas respectivas ligações com a matriz global. "
      ],
      "metadata": {
        "id": "0ECn-NsmCYxM"
      }
    },
    {
      "cell_type": "markdown",
      "source": [
        "Mas primeiramente precisamos definir nossas funções de interpolação já vistas em sala de aula e suas respectivas derivadas , tanto em relação a 𝜂 quanto em relação a xi ."
      ],
      "metadata": {
        "id": "knsdQQ5ZDCWl"
      }
    },
    {
      "cell_type": "code",
      "source": [
        "\n",
        "def Phi_1(xi, eta): return ((1 - xi)*(1 - eta)) / 4\n",
        "def Phi_2(xi, eta): return ((1 + xi)*(1 - eta)) / 4\n",
        "def Phi_3(xi, eta): return ((1 + xi)*(1 + eta)) / 4\n",
        "def Phi_4(xi, eta): return ((1 - xi)*(1 + eta)) / 4\n",
        "\n",
        "def dPhi1_dxi(xi, eta): return (-(1 - eta)) / 4\n",
        "def dPhi1_deta(xi, eta): return (-(1 - xi)) / 4\n",
        "\n",
        "def dPhi2_dxi(xi, eta): return (1 - eta) / 4\n",
        "def dPhi2_deta(xi, eta): return (-(1 + xi)) / 4\n",
        "\n",
        "def dPhi3_dxi(xi, eta): return (1 + eta) / 4\n",
        "def dPhi3_deta(xi, eta): return (1 + xi) / 4\n",
        "\n",
        "def dPhi4_dxi(xi, eta): return (-(1 + eta)) / 4\n",
        "def dPhi4_deta(xi, eta): return (1 - xi) / 4"
      ],
      "metadata": {
        "id": "9zFGgk2LCNIO"
      },
      "execution_count": null,
      "outputs": []
    },
    {
      "cell_type": "markdown",
      "source": [
        "E também temos que definir nosso jacobiano:"
      ],
      "metadata": {
        "id": "IMYKQrZdE1Ka"
      }
    },
    {
      "cell_type": "code",
      "source": [
        "# sabendo que jacobiano --> J = D*y\n",
        "def jacobiano(xi, eta, coords):\n",
        "    D = np.zeros((2,4))\n",
        "    D = [\n",
        "        [dPhi1_dxi(xi, eta) , dPhi2_dxi(xi, eta) , dPhi3_dxi(xi, eta) , dPhi4_dxi(xi, eta) ],\n",
        "        [dPhi1_deta(xi, eta), dPhi2_deta(xi, eta), dPhi3_deta(xi, eta), dPhi4_deta(xi, eta)]\n",
        "        ]\n",
        "    J = np.dot(D,coords)\n",
        "    return D, J"
      ],
      "metadata": {
        "id": "GSvLjwY4E_Yh"
      },
      "execution_count": null,
      "outputs": []
    },
    {
      "cell_type": "markdown",
      "source": [
        "Vamos usar agora nosso conhecimento da relação da matriz global com a local para achar as coordenadas locais do nosso elemento finito."
      ],
      "metadata": {
        "id": "kwvYGyJQLM0L"
      }
    },
    {
      "cell_type": "code",
      "source": [
        "def coord_elemento(e):\n",
        "    coord_local = np.zeros((4, 2))\n",
        "    for i in range(4):\n",
        "        coord_local[i, :] = coord[LG[i][e]-1];\n",
        "    return coord_local"
      ],
      "metadata": {
        "id": "e-E-eD3HIKxs"
      },
      "execution_count": null,
      "outputs": []
    },
    {
      "cell_type": "markdown",
      "source": [
        "Agora abaixo, iremos criar algumas ferramentas úteis para nós como Q e os items a e B que nos foram das no enunciado do problema mas agora em formato de código python, e feito isso, iremos montar nossa matriz $ K^e \n",
        " $."
      ],
      "metadata": {
        "id": "OoBoyI9OSTzl"
      }
    },
    {
      "cell_type": "code",
      "source": [
        "Q = np.matrix([[1, 0], [0, 1]])\n",
        "\n",
        "B = (h_barra*L)/k \n",
        "a = k/(rho*c)\n",
        "\n",
        "Q =  Q*a\n",
        "\n",
        "def K_local(e):\n",
        "    PG = [-0.5773502691, 0.5773502691]  # pontos de Gauss\n",
        "    w = [1, 1]                          # pesos\n",
        "    N_int = len(PG)                     # numero de pontos em cada direcao\n",
        "    coord_local = coord_elemento(e)\n",
        "\n",
        "    K_e = np.zeros((4, 4), dtype = object)\n",
        "    for a in range(N_int): \n",
        "        for b in range(N_int):\n",
        "            D, j = jacobiano(PG[a], PG[b], coord_local)\n",
        "            det_J = np.linalg.det(j)\n",
        "            if det_J <= 0:\n",
        "                print(\"Determinante negativo!\")\n",
        "                exit()\n",
        "\n",
        "            B = np.dot(np.linalg.pinv(j),D)\n",
        "            x = np.dot(B.transpose(),Q)\n",
        "            x = np.dot(x,B)\n",
        "            K_e += x * det_J * w[a] * w[b]  # integral de (∇φᵀ)Q(∇φ) dΩ\n",
        "\n",
        "    return K_e"
      ],
      "metadata": {
        "id": "_lu3bswlMHbJ"
      },
      "execution_count": null,
      "outputs": []
    },
    {
      "cell_type": "markdown",
      "source": [
        "Mas, com o que foi feito acima podemos já montar a K global também!"
      ],
      "metadata": {
        "id": "KOhga7hkTQHz"
      }
    },
    {
      "cell_type": "code",
      "source": [
        "def K_global(K, K_e, e):\n",
        "    for a in range(4):\n",
        "        for b in range(4):\n",
        "            i = EQ[LG[a][e]-1]\n",
        "            j = EQ[LG[b][e]-1]\n",
        "            if (i != 0) and (j != 0):   # iremos pular \n",
        "                K[i-1][j-1] += K_e[a][b]\n",
        "    return K"
      ],
      "metadata": {
        "id": "bA3bmg7pTPV_"
      },
      "execution_count": null,
      "outputs": []
    },
    {
      "cell_type": "markdown",
      "source": [
        "Agora partiremos para o cálculo da F local e de maneira análoga vamos achar a F global também!"
      ],
      "metadata": {
        "id": "yT3zPlbhZKdF"
      }
    },
    {
      "cell_type": "code",
      "source": [
        "from mpmath.ctx_mp_python import from_man_exp\n",
        "# tratando condição de contorno\n",
        "P = np.zeros(Nnos)\n",
        "P[5] = T_inf\n",
        "P[11] = T_inf\n",
        "\n",
        "p = np.zeros(4);\n",
        "\n",
        "# funcao que vamos usar depois, em formato de funcao lamba \n",
        "\n",
        "f = lambda x : U / (rho*c)\n",
        "\n",
        "def F_prescrito(K_e, e):\n",
        "  p = P[LG[0:4, e]-1]\n",
        "  F_p = np.dot(K_e, p)\n",
        "  return F_p\n",
        "\n",
        "def F_local(K_e, e):\n",
        "    PG = [-0.5773502691, 0.5773502691]  # pontos de Gauss\n",
        "    w = [1, 1]                          # pesos\n",
        "    N_int = len(PG)                     # numero de pontos em cada direcao\n",
        "    coord_local = coord_elemento(e)\n",
        "    M = np.zeros((4,4), dtype=object)\n",
        "    for a in range (N_int):\n",
        "        for b in range(N_int):\n",
        "            do_nothing , J = jacobiano(PG[a], PG[b], coord_local)\n",
        "            det_J = np.linalg.det(J)\n",
        "            if det_J <= 0:\n",
        "                print(\"Determinante negativo!\")\n",
        "                exit()\n",
        "            \n",
        "            Phi = [Phi_1(PG[a], PG[b]), Phi_2(PG[a], PG[b]), Phi_3(PG[a], PG[b]), Phi_4(PG[a], PG[b])]\n",
        "            W = w[a]*w[b]*det_J\n",
        "            for m in range(4):\n",
        "                for n in range(4):\n",
        "                    M[m][n] += Phi[m]*Phi[n]*W\n",
        "\n",
        "    f_e = np.zeros(4)\n",
        "    for a in range(4):\n",
        "      for j in range(2):\n",
        "        f_e[a] = f(coord_local[a][j])\n",
        "\n",
        "    f_e = np.dot(M,f_e)\n",
        "\n",
        "    return f_e - F_prescrito(K_e, e)\n",
        "\n",
        "    \n",
        "def F_global(F, F_e, e):\n",
        "    for a in range(4):\n",
        "        i = EQ[LG[a][e]-1]\n",
        "        if i != 0:\n",
        "            F[i-1] = F[i-1] + F_e[a]\n",
        "        \n",
        "    return F"
      ],
      "metadata": {
        "id": "EXeYrPnHZROr"
      },
      "execution_count": null,
      "outputs": []
    },
    {
      "cell_type": "markdown",
      "source": [
        "Agora com todar ferramentas prontas, nós vamos fazer um elemento finito para cada número de elementos que já descobrimos lá encima e chamamos carinhosamente de $N_{el}$."
      ],
      "metadata": {
        "id": "FSP8RHvrgI7A"
      }
    },
    {
      "cell_type": "code",
      "source": [
        "for e in range(Nel):\n",
        "  K_e = K_local(e)\n",
        "  K_global(K, K_e, e)\n",
        "  F_e = F_local(K_e, e)\n",
        "  F_global(F, F_e, e)"
      ],
      "metadata": {
        "id": "UPBje-jAgWPo"
      },
      "execution_count": null,
      "outputs": []
    },
    {
      "cell_type": "markdown",
      "source": [
        "E agora comparamos as soluções:"
      ],
      "metadata": {
        "id": "etvXMYlogrFt"
      }
    },
    {
      "cell_type": "code",
      "source": [
        "print(\"K\")\n",
        "print(K)\n",
        "print(\"F\")\n",
        "print(F)"
      ],
      "metadata": {
        "colab": {
          "base_uri": "https://localhost:8080/"
        },
        "id": "6BSBHN_0NoxT",
        "outputId": "5e65aa09-474f-4136-9b80-474ae65d5eea"
      },
      "execution_count": null,
      "outputs": [
        {
          "output_type": "stream",
          "name": "stdout",
          "text": [
            "K\n",
            "[[ 2.97237666e-05 -2.92823245e-05  0.00000000e+00  0.00000000e+00\n",
            "   0.00000000e+00  1.44204412e-05 -1.48618833e-05  0.00000000e+00\n",
            "   0.00000000e+00  0.00000000e+00]\n",
            " [-2.92823245e-05  5.94475331e-05 -2.92823245e-05  0.00000000e+00\n",
            "   0.00000000e+00 -1.48618833e-05  2.88408824e-05 -1.48618833e-05\n",
            "   0.00000000e+00  0.00000000e+00]\n",
            " [ 0.00000000e+00 -2.92823245e-05  5.94475331e-05 -2.92823245e-05\n",
            "   0.00000000e+00  0.00000000e+00 -1.48618833e-05  2.88408824e-05\n",
            "  -1.48618833e-05  0.00000000e+00]\n",
            " [ 0.00000000e+00  0.00000000e+00 -2.92823245e-05  5.94475331e-05\n",
            "  -2.92823245e-05  0.00000000e+00  0.00000000e+00 -1.48618833e-05\n",
            "   2.88408824e-05 -1.48618833e-05]\n",
            " [ 0.00000000e+00  0.00000000e+00  0.00000000e+00 -2.92823245e-05\n",
            "   5.94475331e-05  0.00000000e+00  0.00000000e+00  0.00000000e+00\n",
            "  -1.48618833e-05  2.88408824e-05]\n",
            " [ 1.44204412e-05 -1.48618833e-05  0.00000000e+00  0.00000000e+00\n",
            "   0.00000000e+00  2.97237666e-05 -2.92823245e-05  0.00000000e+00\n",
            "   0.00000000e+00  0.00000000e+00]\n",
            " [-1.48618833e-05  2.88408824e-05 -1.48618833e-05  0.00000000e+00\n",
            "   0.00000000e+00 -2.92823245e-05  5.94475331e-05 -2.92823245e-05\n",
            "   0.00000000e+00  0.00000000e+00]\n",
            " [ 0.00000000e+00 -1.48618833e-05  2.88408824e-05 -1.48618833e-05\n",
            "   0.00000000e+00  0.00000000e+00 -2.92823245e-05  5.94475331e-05\n",
            "  -2.92823245e-05  0.00000000e+00]\n",
            " [ 0.00000000e+00  0.00000000e+00 -1.48618833e-05  2.88408824e-05\n",
            "  -1.48618833e-05  0.00000000e+00  0.00000000e+00 -2.92823245e-05\n",
            "   5.94475331e-05 -2.92823245e-05]\n",
            " [ 0.00000000e+00  0.00000000e+00  0.00000000e+00 -1.48618833e-05\n",
            "   2.88408824e-05  0.00000000e+00  0.00000000e+00  0.00000000e+00\n",
            "  -2.92823245e-05  5.94475331e-05]]\n",
            "F\n",
            "[0.00107156 0.00214311 0.00214311 0.00214311 0.01508399 0.00107156\n",
            " 0.00214311 0.00214311 0.00214311 0.01508399]\n"
          ]
        }
      ]
    },
    {
      "cell_type": "code",
      "source": [
        "solucao_numerica = np.linalg.solve(K,F)"
      ],
      "metadata": {
        "id": "b3InJSwsgqn3"
      },
      "execution_count": null,
      "outputs": []
    },
    {
      "cell_type": "code",
      "source": [
        "print(solucao_numerica[0:4])"
      ],
      "metadata": {
        "id": "n3vq4jRYZRDn",
        "colab": {
          "base_uri": "https://localhost:8080/"
        },
        "outputId": "10a533a9-c6a9-43bf-eeae-2b4f67b29ccc"
      },
      "execution_count": null,
      "outputs": [
        {
          "output_type": "stream",
          "name": "stdout",
          "text": [
            "[900.    875.726 802.904 681.534]\n"
          ]
        }
      ]
    },
    {
      "cell_type": "code",
      "source": [
        "solucao_analitica = []\n",
        "xs = np.arange(0, 0.02, 0.005)\n",
        "t = lambda x : T_inf + (U*L**2)/(2*k)*(1 - (x/L)**2)\n",
        "for x in xs:\n",
        "  solucao_analitica.append(t(x))\n",
        "\n",
        "print(solucao_analitica)"
      ],
      "metadata": {
        "colab": {
          "base_uri": "https://localhost:8080/"
        },
        "id": "cN5jyAF-bNFE",
        "outputId": "ca3d33b1-64f3-47a5-a284-c9722b63cbbe"
      },
      "execution_count": null,
      "outputs": [
        {
          "output_type": "stream",
          "name": "stdout",
          "text": [
            "[900.0000000000001, 875.7260000000001, 802.9040000000002, 681.5340000000001]\n"
          ]
        }
      ]
    },
    {
      "cell_type": "code",
      "source": [
        "print(\"\\nA solução analítica é:\\n\")\n",
        "print(solucao_analitica)\n",
        "print(\"\\nA solução numérica é:\\n\")\n",
        "print(solucao_numerica)"
      ],
      "metadata": {
        "colab": {
          "base_uri": "https://localhost:8080/"
        },
        "id": "_UQn4UkSPKYm",
        "outputId": "548e04b2-a5ba-4681-d5e5-389d3453b411"
      },
      "execution_count": null,
      "outputs": [
        {
          "output_type": "stream",
          "name": "stdout",
          "text": [
            "\n",
            "A solução analítica é:\n",
            "\n",
            "[900.0000000000001, 875.7260000000001, 802.9040000000002, 681.5340000000001]\n",
            "\n",
            "A solução numérica é:\n",
            "\n",
            "[900.    875.726 802.904 681.534 511.616 900.    875.726 802.904 681.534\n",
            " 511.616]\n"
          ]
        }
      ]
    },
    {
      "cell_type": "code",
      "source": [],
      "metadata": {
        "id": "UlwHPpwkT8jk"
      },
      "execution_count": null,
      "outputs": []
    }
  ]
}